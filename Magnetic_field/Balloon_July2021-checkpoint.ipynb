{
 "cells": [
  {
   "cell_type": "markdown",
   "metadata": {},
   "source": [
    "<u>**July 21, 2021**</u>\\\n",
    "GPS:\\\n",
    "Uploading the example code \"GPS_SoftwareSerial_Parsing\" we started to see data. We noted that the altitude is in meters.\n",
    "\n",
    "Accelerometer:\\\n",
    "Following the instructions on the tutorial: https://learn.adafruit.com/adxl345-digital-accelerometer \\\n",
    "Uploading the example test code we began to get data but it appeared that we needed to callibrate the sensor.\n",
    "\n",
    "To callibrate, we taped the sensor the the side of a brick in order to keep the sensor level while collecting data on each of the six axis'. We found the max and min of each axis, allowing us to do a two-point callibration. \n",
    "\n",
    "Callibration Data:\\\n",
    "Accel Minimums: -10.12  -10.16  -10.98\\\n",
    "Accel Maximums: 10.47  10.32  8.90\n",
    "\n",
    "Two-point Callibration formula:\\\n",
    "CorrectedValue = (((RawValue – RawLow) * ReferenceRange) / RawRange) + ReferenceLow\n"
   ]
  },
  {
   "cell_type": "code",
   "execution_count": null,
   "metadata": {},
   "outputs": [],
   "source": []
  }
 ],
 "metadata": {
  "kernelspec": {
   "display_name": "Python 3",
   "language": "python",
   "name": "python3"
  },
  "language_info": {
   "codemirror_mode": {
    "name": "ipython",
    "version": 3
   },
   "file_extension": ".py",
   "mimetype": "text/x-python",
   "name": "python",
   "nbconvert_exporter": "python",
   "pygments_lexer": "ipython3",
   "version": "3.8.8"
  }
 },
 "nbformat": 4,
 "nbformat_minor": 4
}
