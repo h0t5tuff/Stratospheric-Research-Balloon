{
 "cells": [
  {
   "cell_type": "markdown",
   "metadata": {},
   "source": [
    "# Magnetic Field\n",
    "<hr style=\"height:2px\">"
   ]
  },
  {
   "cell_type": "markdown",
   "metadata": {},
   "source": [
    "## Objectives\n",
    "To measure the axial magnetic field of a neodymium magnet.\n",
    "\n",
    "Specifically, our objectives are\n",
    "\n",
    "* Construct a sensor capable of measuring magnetic field strenght and polarity using a Hall sensor driven by our Arduino..\n",
    "* Use the sensor to measure the axial field of a neodymium magnet.\n",
    "* Analyze the functional dependency of the axial magentic field with distance.\n",
    "\n",
    "<hr style=\"height:2px\">"
   ]
  },
  {
   "cell_type": "markdown",
   "metadata": {},
   "source": [
    "## Task 1: Circuit construction\n",
    "The circuit for this lab is arguably the simplest of the enire course as it only uses one component together with the Arduino. The Hall sensor is shown in Figure 1.\n",
    "\n",
    "<div class=\"alert alert-danger\">\n",
    "NOTICE: The Hall sensor has two large surfaces. The smaller of the two has the labeling on it (too small for me to read), while the larger surface is the sensing surface, that is, the larger surface should face the magnet during measurements.  \n",
    "</div>\n",
    "\n",
    "<img src=\"lab8_figure1.png\" width=\"100\">\n",
    "<figcaption>Fig.1: The Hall sensor.</figcaption>\n",
    "\n",
    "Construct the ciruit shown in Figure 2 (breadboard layout is shown in Figure 3). \n",
    "\n",
    "<img src=\"lab8_figure2.png\" width=\"500\">\n",
    "<figcaption>Fig.2: The circuit diagram for the magnetic field sensor using Arduino Nano and Hall sensor.</figcaption>\n",
    "\n",
    "<img src=\"lab8_figure3.png\" width=\"500\">\n",
    "<figcaption>Fig.3: Breadboard lay-out of the magnetic field sensing circuit.</figcaption>\n",
    "\n",
    "We are powering the Hall sensor through the 5 V output pin from the Arduino and supplying it with a ground connection. The output pin from the Hall sensor is connected to the Arduino analog input pin $A0$. The Hall sensor outputs a voltage proportional to the magnetic field strenght (if you are inclined, inspect the arduino script and you will see the conversion calculation. These calcualtions are based off the  [data sheet](https://sensing.honeywell.com/honeywell-sensing-sensors-linear-hall-effect-ics-ss490-series-datasheet-005843-2-en.pdf)).\n",
    "\n",
    "<div class=\"alert alert-danger\">\n",
    "IMPORTANT: Make sure that the sensing surface of th Hall sensor is facing away from the breadboard. See Figure 4 for proper placement.  \n",
    "</div>\n",
    "\n",
    "<img src=\"lab8_figure4.png\" width=\"500\">\n",
    "<figcaption>Fig.4: Proper placement of the Hall sensor.</figcaption>\n",
    "\n",
    "We are not ready to conduct the experiment for data collection.\n",
    "\n",
    "<hr style=\"height:2px\">"
   ]
  },
  {
   "cell_type": "markdown",
   "metadata": {},
   "source": [
    "## Task 2: Calibrating the Hall sensor\n",
    "To accurately measure the magnetic field of the neodymium magnet, we must account for the background magnetic field. Among sources are Earth's magnetic field as well as fields from electronics and power lines. To do so, we measure the magnetic field without the neodymium magnet present.\n",
    "\n",
    "Download the file: magnetic field.ino and upload the script it to the arduino. It is important to follow the next steps carefully!\n",
    "\n",
    "1. When the script is uploaded, open the serial monitor and read off the magnetic field. This is the background magnetic field strength.\n",
    "\n",
    "2. In the first line of the script, replace the background value (I had a background value of 511) with the one you just measured. \n",
    "\n",
    "3. Save the code and re-upload to the Arduino.\n",
    "\n",
    "4. Repeat step 1 to see if you have a value close to zero. It may not be exactly zero and/or it may fluctuate slightly. The key point is that the value after calibration should be small.\n",
    "\n",
    "The sensor is now calibrated.\n",
    "\n",
    "<hr style=\"height:2px\">"
   ]
  },
  {
   "cell_type": "markdown",
   "metadata": {},
   "source": [
    "## Task 3: Measure and analyze magnetic field\n",
    "We will measure the axial field of the nedymium magnet. Use the magnet and a ruler to measure the magnetic field strength as a function of distance. See Figure 5 for a set-up (not to scale). Use the center of the magnet as refence point.\n",
    "\n",
    "<img src=\"lab8_figure5.png\" width=\"500\">\n",
    "<figcaption>Fig.5: Measure magnetic field strength as function of distance.</figcaption>\n",
    "\n",
    "1. Record sufficient data to make a plot of the magnetic field strength vs. distance. Record your data in a .txt file.\n",
    "\n",
    "2. Plot the data. You can use the code from Lab 6, modify it to read your new data file and change the labels. You can also use Excel (not preferred).\n",
    "\n",
    "<hr style=\"height:2px\">"
   ]
  },
  {
   "cell_type": "markdown",
   "metadata": {},
   "source": [
    "# Task 4: Report\n",
    "Write a proper scientific report. Include:\n",
    "\n",
    "1. Objective\n",
    "2. Background\n",
    "3. Methodology\n",
    "4. Results: do not include the data itself, but insert the plot made.\n",
    "5. Discussion: what shape does the graph have? Is it $1/r$ or $1/r^2$ or something else? What would you expect?\n",
    "6. Summary"
   ]
  }
 ],
 "metadata": {
  "kernelspec": {
   "display_name": "Python 3",
   "language": "python",
   "name": "python3"
  },
  "language_info": {
   "codemirror_mode": {
    "name": "ipython",
    "version": 3
   },
   "file_extension": ".py",
   "mimetype": "text/x-python",
   "name": "python",
   "nbconvert_exporter": "python",
   "pygments_lexer": "ipython3",
   "version": "3.7.6"
  }
 },
 "nbformat": 4,
 "nbformat_minor": 4
}
