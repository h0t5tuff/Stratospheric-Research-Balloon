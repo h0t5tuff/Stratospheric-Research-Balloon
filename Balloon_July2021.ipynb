{
 "cells": [
  {
   "cell_type": "markdown",
   "metadata": {},
   "source": [
    "<u>**July 21, 2021**</u>\\\n",
    "GPS:\\\n",
    "Uploading the example code \"GPS_SoftwareSerial_Parsing\" we started to see data. We noted that the altitude is in meters.\n",
    "\n",
    "Accelerometer:\\\n",
    "Following the instructions on the tutorial: https://learn.adafruit.com/adxl345-digital-accelerometer \\\n",
    "Uploading the example test code we began to get data but it appeared that we needed to callibrate the sensor.\n",
    "\n",
    "To callibrate, we taped the sensor the the side of a brick in order to keep the sensor level while collecting data on each of the six axis'. We found the max and min of each axis, allowing us to do a two-point callibration. \n",
    "\n",
    "Callibration Data:\\\n",
    "Accel Minimums: -10.12  -10.16  -10.98\\\n",
    "Accel Maximums: 10.47  10.32  8.90\n",
    "\n",
    "Two-point Callibration formula:\\\n",
    "CorrectedValue = (((RawValue – RawLow) * ReferenceRange) / RawRange) + ReferenceLow\n"
   ]
  },
  {
   "cell_type": "markdown",
   "metadata": {},
   "source": [
    "<u>**Aug 2, 2021**</u>\n",
    "\n",
    "While attempting to get the accelerometer and GPS to work on one board we realized that we either will need to cut some code to fit the memory of the UNO, or we can switch over to using the MEGA 2560 board. We are attempting to move things to the MEGA. We found that Adafruits Ulimate GPS logger sheild was designed for use with the UNO board, and getting the SD card to initialize has failed. We have tried jumping pins and relabeling them in the code, but to no avail.\n",
    "\n",
    "To make sure we have a back up plan we are making sure we can have the sensors working individually on seperate UNO boards.\n",
    "With working on having the GPS Sheild write to an SD card, we found the RAM to be running out. Finding a forum online, we tried installing an older version of the libraries. It worked.\n",
    "\n",
    "Attemping to make use of millis() in order to sync the gps and accel. Testing out whether hitting the reset button will reset the millis() timing. Looks like it does. We can plug in both sensors then press the reset button at the same time to get relative timing. This will allow us to look for zeros in both data sets."
   ]
  },
  {
   "cell_type": "markdown",
   "metadata": {},
   "source": [
    "<u>**Aug 3, 2021**</u>\n",
    "\n",
    "We began to layout the balloon and flight lines. We took the hall sensor off of the bread board and connected it to the data sheild. Started to make sure we had the go pros and gps locator charged, we have fresh batteries, and SD cards for data collection. We started to place the arduinos and sensors into the foam box and arranged the layout. We used HABHUB to predict the flight plan.\n",
    "\n",
    "Payload: 1056g\\\n",
    "Flight Line & Parachute: 356g\\\n",
    "Reflector&Rope: 556g\\\n",
    "total: 1968g\n",
    "\n",
    "The flight predictor estimates that the balloon will reach approximately 33000m altitude, the stratosphere."
   ]
  },
  {
   "cell_type": "markdown",
   "metadata": {},
   "source": [
    "<u>**Aug 3, 2021**</u>\n",
    "\n",
    "Met up at 6:00am, gathered our supplies and grabbed the helium tanks. We realized that our data coming from the Hall Sensor isn't precise enough to see the change in magnetic field. James is working on adjusting the code as we drove to Delta to launch.\n",
    "\n",
    "Balloon launched: 9:55am\n",
    "Found: 12:50pm"
   ]
  }
 ],
 "metadata": {
  "kernelspec": {
   "display_name": "Python 3",
   "language": "python",
   "name": "python3"
  },
  "language_info": {
   "codemirror_mode": {
    "name": "ipython",
    "version": 3
   },
   "file_extension": ".py",
   "mimetype": "text/x-python",
   "name": "python",
   "nbconvert_exporter": "python",
   "pygments_lexer": "ipython3",
   "version": "3.8.5"
  }
 },
 "nbformat": 4,
 "nbformat_minor": 4
}
